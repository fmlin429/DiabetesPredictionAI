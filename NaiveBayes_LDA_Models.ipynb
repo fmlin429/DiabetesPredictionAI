{
    "nbformat_minor": 1, 
    "cells": [
        {
            "execution_count": 165, 
            "cell_type": "code", 
            "metadata": {}, 
            "outputs": [
                {
                    "execution_count": 165, 
                    "metadata": {}, 
                    "data": {
                        "text/html": "<div>\n<style scoped>\n    .dataframe tbody tr th:only-of-type {\n        vertical-align: middle;\n    }\n\n    .dataframe tbody tr th {\n        vertical-align: top;\n    }\n\n    .dataframe thead th {\n        text-align: right;\n    }\n</style>\n<table border=\"1\" class=\"dataframe\">\n  <thead>\n    <tr style=\"text-align: right;\">\n      <th></th>\n      <th>Pregnancies</th>\n      <th>Glucose</th>\n      <th>BloodPressure</th>\n      <th>SkinThickness</th>\n      <th>Insulin</th>\n      <th>BMI</th>\n      <th>Skin</th>\n      <th>DiabetesPedigreeFunction</th>\n      <th>Age</th>\n      <th>DiabetesDiagnosis</th>\n    </tr>\n  </thead>\n  <tbody>\n    <tr>\n      <th>0</th>\n      <td>6</td>\n      <td>148</td>\n      <td>72</td>\n      <td>35</td>\n      <td>0</td>\n      <td>33.6</td>\n      <td>35</td>\n      <td>0.627</td>\n      <td>50</td>\n      <td>yes</td>\n    </tr>\n    <tr>\n      <th>1</th>\n      <td>1</td>\n      <td>85</td>\n      <td>66</td>\n      <td>29</td>\n      <td>0</td>\n      <td>26.6</td>\n      <td>29</td>\n      <td>0.351</td>\n      <td>31</td>\n      <td>no</td>\n    </tr>\n    <tr>\n      <th>2</th>\n      <td>8</td>\n      <td>183</td>\n      <td>64</td>\n      <td>0</td>\n      <td>0</td>\n      <td>23.3</td>\n      <td>0</td>\n      <td>0.672</td>\n      <td>32</td>\n      <td>yes</td>\n    </tr>\n    <tr>\n      <th>3</th>\n      <td>1</td>\n      <td>89</td>\n      <td>66</td>\n      <td>23</td>\n      <td>94</td>\n      <td>28.1</td>\n      <td>23</td>\n      <td>0.167</td>\n      <td>21</td>\n      <td>no</td>\n    </tr>\n    <tr>\n      <th>4</th>\n      <td>0</td>\n      <td>137</td>\n      <td>40</td>\n      <td>35</td>\n      <td>168</td>\n      <td>43.1</td>\n      <td>35</td>\n      <td>2.288</td>\n      <td>33</td>\n      <td>yes</td>\n    </tr>\n    <tr>\n      <th>5</th>\n      <td>5</td>\n      <td>116</td>\n      <td>74</td>\n      <td>0</td>\n      <td>0</td>\n      <td>25.6</td>\n      <td>0</td>\n      <td>0.201</td>\n      <td>30</td>\n      <td>no</td>\n    </tr>\n    <tr>\n      <th>6</th>\n      <td>3</td>\n      <td>78</td>\n      <td>50</td>\n      <td>32</td>\n      <td>88</td>\n      <td>31.0</td>\n      <td>32</td>\n      <td>0.248</td>\n      <td>26</td>\n      <td>yes</td>\n    </tr>\n    <tr>\n      <th>7</th>\n      <td>10</td>\n      <td>115</td>\n      <td>0</td>\n      <td>0</td>\n      <td>0</td>\n      <td>35.3</td>\n      <td>0</td>\n      <td>0.134</td>\n      <td>29</td>\n      <td>no</td>\n    </tr>\n    <tr>\n      <th>8</th>\n      <td>2</td>\n      <td>197</td>\n      <td>70</td>\n      <td>45</td>\n      <td>543</td>\n      <td>30.5</td>\n      <td>45</td>\n      <td>0.158</td>\n      <td>53</td>\n      <td>yes</td>\n    </tr>\n    <tr>\n      <th>9</th>\n      <td>8</td>\n      <td>125</td>\n      <td>96</td>\n      <td>0</td>\n      <td>0</td>\n      <td>0.0</td>\n      <td>0</td>\n      <td>0.232</td>\n      <td>54</td>\n      <td>yes</td>\n    </tr>\n  </tbody>\n</table>\n</div>", 
                        "text/plain": "   Pregnancies  Glucose  BloodPressure  SkinThickness  Insulin   BMI  Skin  \\\n0            6      148             72             35        0  33.6    35   \n1            1       85             66             29        0  26.6    29   \n2            8      183             64              0        0  23.3     0   \n3            1       89             66             23       94  28.1    23   \n4            0      137             40             35      168  43.1    35   \n5            5      116             74              0        0  25.6     0   \n6            3       78             50             32       88  31.0    32   \n7           10      115              0              0        0  35.3     0   \n8            2      197             70             45      543  30.5    45   \n9            8      125             96              0        0   0.0     0   \n\n   DiabetesPedigreeFunction  Age DiabetesDiagnosis  \n0                     0.627   50               yes  \n1                     0.351   31                no  \n2                     0.672   32               yes  \n3                     0.167   21                no  \n4                     2.288   33               yes  \n5                     0.201   30                no  \n6                     0.248   26               yes  \n7                     0.134   29                no  \n8                     0.158   53               yes  \n9                     0.232   54               yes  "
                    }, 
                    "output_type": "execute_result"
                }
            ], 
            "source": "# The code was removed by Watson Studio for sharing."
        }, 
        {
            "execution_count": 166, 
            "cell_type": "code", 
            "metadata": {}, 
            "outputs": [
                {
                    "execution_count": 166, 
                    "metadata": {}, 
                    "data": {
                        "text/plain": "(769, 10)"
                    }, 
                    "output_type": "execute_result"
                }
            ], 
            "source": "df.shape"
        }, 
        {
            "execution_count": 167, 
            "cell_type": "code", 
            "metadata": {}, 
            "outputs": [
                {
                    "output_type": "stream", 
                    "name": "stdout", 
                    "text": "Pregnancies                 0\nGlucose                     0\nBloodPressure               0\nSkinThickness               0\nInsulin                     0\nBMI                         0\nSkin                        0\nDiabetesPedigreeFunction    0\nAge                         0\nDiabetesDiagnosis           0\ndtype: int64\n"
                }
            ], 
            "source": "# mark zero values as missing or NaN\ndf = df.replace(0, numpy.NaN)\n# fill missing values with mean column values\ndf.fillna(df.mean(), inplace=True)\n# count the number of NaN values in each column\nprint(df.isnull().sum())"
        }, 
        {
            "execution_count": 164, 
            "cell_type": "code", 
            "metadata": {}, 
            "outputs": [
                {
                    "execution_count": 164, 
                    "metadata": {}, 
                    "data": {
                        "text/html": "<div>\n<style scoped>\n    .dataframe tbody tr th:only-of-type {\n        vertical-align: middle;\n    }\n\n    .dataframe tbody tr th {\n        vertical-align: top;\n    }\n\n    .dataframe thead th {\n        text-align: right;\n    }\n</style>\n<table border=\"1\" class=\"dataframe\">\n  <thead>\n    <tr style=\"text-align: right;\">\n      <th></th>\n      <th>Pregnancies</th>\n      <th>Glucose</th>\n      <th>BloodPressure</th>\n      <th>SkinThickness</th>\n      <th>Insulin</th>\n      <th>BMI</th>\n      <th>Skin</th>\n      <th>DiabetesPedigreeFunction</th>\n      <th>Age</th>\n      <th>DiabetesDiagnosis</th>\n    </tr>\n  </thead>\n  <tbody>\n    <tr>\n      <th>0</th>\n      <td>6.000000</td>\n      <td>148.0</td>\n      <td>72.000000</td>\n      <td>35.000000</td>\n      <td>155.379747</td>\n      <td>33.600000</td>\n      <td>35.000000</td>\n      <td>0.627</td>\n      <td>50</td>\n      <td>yes</td>\n    </tr>\n    <tr>\n      <th>1</th>\n      <td>1.000000</td>\n      <td>85.0</td>\n      <td>66.000000</td>\n      <td>29.000000</td>\n      <td>155.379747</td>\n      <td>26.600000</td>\n      <td>29.000000</td>\n      <td>0.351</td>\n      <td>31</td>\n      <td>no</td>\n    </tr>\n    <tr>\n      <th>2</th>\n      <td>8.000000</td>\n      <td>183.0</td>\n      <td>64.000000</td>\n      <td>29.164207</td>\n      <td>155.379747</td>\n      <td>23.300000</td>\n      <td>29.164207</td>\n      <td>0.672</td>\n      <td>32</td>\n      <td>yes</td>\n    </tr>\n    <tr>\n      <th>3</th>\n      <td>1.000000</td>\n      <td>89.0</td>\n      <td>66.000000</td>\n      <td>23.000000</td>\n      <td>94.000000</td>\n      <td>28.100000</td>\n      <td>23.000000</td>\n      <td>0.167</td>\n      <td>21</td>\n      <td>no</td>\n    </tr>\n    <tr>\n      <th>4</th>\n      <td>4.490881</td>\n      <td>137.0</td>\n      <td>40.000000</td>\n      <td>35.000000</td>\n      <td>168.000000</td>\n      <td>43.100000</td>\n      <td>35.000000</td>\n      <td>2.288</td>\n      <td>33</td>\n      <td>yes</td>\n    </tr>\n    <tr>\n      <th>5</th>\n      <td>5.000000</td>\n      <td>116.0</td>\n      <td>74.000000</td>\n      <td>29.164207</td>\n      <td>155.379747</td>\n      <td>25.600000</td>\n      <td>29.164207</td>\n      <td>0.201</td>\n      <td>30</td>\n      <td>no</td>\n    </tr>\n    <tr>\n      <th>6</th>\n      <td>3.000000</td>\n      <td>78.0</td>\n      <td>50.000000</td>\n      <td>32.000000</td>\n      <td>88.000000</td>\n      <td>31.000000</td>\n      <td>32.000000</td>\n      <td>0.248</td>\n      <td>26</td>\n      <td>yes</td>\n    </tr>\n    <tr>\n      <th>7</th>\n      <td>10.000000</td>\n      <td>115.0</td>\n      <td>72.384196</td>\n      <td>29.164207</td>\n      <td>155.379747</td>\n      <td>35.300000</td>\n      <td>29.164207</td>\n      <td>0.134</td>\n      <td>29</td>\n      <td>no</td>\n    </tr>\n    <tr>\n      <th>8</th>\n      <td>2.000000</td>\n      <td>197.0</td>\n      <td>70.000000</td>\n      <td>45.000000</td>\n      <td>543.000000</td>\n      <td>30.500000</td>\n      <td>45.000000</td>\n      <td>0.158</td>\n      <td>53</td>\n      <td>yes</td>\n    </tr>\n    <tr>\n      <th>9</th>\n      <td>8.000000</td>\n      <td>125.0</td>\n      <td>96.000000</td>\n      <td>29.164207</td>\n      <td>155.379747</td>\n      <td>32.443404</td>\n      <td>29.164207</td>\n      <td>0.232</td>\n      <td>54</td>\n      <td>yes</td>\n    </tr>\n  </tbody>\n</table>\n</div>", 
                        "text/plain": "   Pregnancies  Glucose  BloodPressure  SkinThickness     Insulin        BMI  \\\n0     6.000000    148.0      72.000000      35.000000  155.379747  33.600000   \n1     1.000000     85.0      66.000000      29.000000  155.379747  26.600000   \n2     8.000000    183.0      64.000000      29.164207  155.379747  23.300000   \n3     1.000000     89.0      66.000000      23.000000   94.000000  28.100000   \n4     4.490881    137.0      40.000000      35.000000  168.000000  43.100000   \n5     5.000000    116.0      74.000000      29.164207  155.379747  25.600000   \n6     3.000000     78.0      50.000000      32.000000   88.000000  31.000000   \n7    10.000000    115.0      72.384196      29.164207  155.379747  35.300000   \n8     2.000000    197.0      70.000000      45.000000  543.000000  30.500000   \n9     8.000000    125.0      96.000000      29.164207  155.379747  32.443404   \n\n        Skin  DiabetesPedigreeFunction  Age DiabetesDiagnosis  \n0  35.000000                     0.627   50               yes  \n1  29.000000                     0.351   31                no  \n2  29.164207                     0.672   32               yes  \n3  23.000000                     0.167   21                no  \n4  35.000000                     2.288   33               yes  \n5  29.164207                     0.201   30                no  \n6  32.000000                     0.248   26               yes  \n7  29.164207                     0.134   29                no  \n8  45.000000                     0.158   53               yes  \n9  29.164207                     0.232   54               yes  "
                    }, 
                    "output_type": "execute_result"
                }
            ], 
            "source": "df.head(10)"
        }, 
        {
            "execution_count": 144, 
            "cell_type": "code", 
            "metadata": {}, 
            "outputs": [
                {
                    "execution_count": 144, 
                    "metadata": {}, 
                    "data": {
                        "text/plain": "False"
                    }, 
                    "output_type": "execute_result"
                }
            ], 
            "source": "df.isnull().values.any()"
        }, 
        {
            "execution_count": 145, 
            "cell_type": "code", 
            "metadata": {
                "scrolled": false
            }, 
            "outputs": [
                {
                    "execution_count": 145, 
                    "metadata": {}, 
                    "data": {
                        "text/html": "<div>\n<style scoped>\n    .dataframe tbody tr th:only-of-type {\n        vertical-align: middle;\n    }\n\n    .dataframe tbody tr th {\n        vertical-align: top;\n    }\n\n    .dataframe thead th {\n        text-align: right;\n    }\n</style>\n<table border=\"1\" class=\"dataframe\">\n  <thead>\n    <tr style=\"text-align: right;\">\n      <th></th>\n      <th>Pregnancies</th>\n      <th>Glucose</th>\n      <th>BloodPressure</th>\n      <th>SkinThickness</th>\n      <th>Insulin</th>\n      <th>BMI</th>\n      <th>Skin</th>\n      <th>DiabetesPedigreeFunction</th>\n      <th>Age</th>\n    </tr>\n  </thead>\n  <tbody>\n    <tr>\n      <th>Pregnancies</th>\n      <td>1.000000</td>\n      <td>0.154972</td>\n      <td>0.260083</td>\n      <td>0.131059</td>\n      <td>0.068677</td>\n      <td>0.111976</td>\n      <td>0.131059</td>\n      <td>-0.004637</td>\n      <td>0.512118</td>\n    </tr>\n    <tr>\n      <th>Glucose</th>\n      <td>0.154972</td>\n      <td>1.000000</td>\n      <td>0.219305</td>\n      <td>0.192242</td>\n      <td>0.420629</td>\n      <td>0.232015</td>\n      <td>0.192242</td>\n      <td>0.137858</td>\n      <td>0.267034</td>\n    </tr>\n    <tr>\n      <th>BloodPressure</th>\n      <td>0.260083</td>\n      <td>0.219305</td>\n      <td>1.000000</td>\n      <td>0.191525</td>\n      <td>0.073559</td>\n      <td>0.283093</td>\n      <td>0.191525</td>\n      <td>-0.001156</td>\n      <td>0.325326</td>\n    </tr>\n    <tr>\n      <th>SkinThickness</th>\n      <td>0.131059</td>\n      <td>0.192242</td>\n      <td>0.191525</td>\n      <td>1.000000</td>\n      <td>0.157349</td>\n      <td>0.540005</td>\n      <td>1.000000</td>\n      <td>0.099964</td>\n      <td>0.127312</td>\n    </tr>\n    <tr>\n      <th>Insulin</th>\n      <td>0.068677</td>\n      <td>0.420629</td>\n      <td>0.073559</td>\n      <td>0.157349</td>\n      <td>1.000000</td>\n      <td>0.167927</td>\n      <td>0.157349</td>\n      <td>0.099673</td>\n      <td>0.137139</td>\n    </tr>\n    <tr>\n      <th>BMI</th>\n      <td>0.111976</td>\n      <td>0.232015</td>\n      <td>0.283093</td>\n      <td>0.540005</td>\n      <td>0.167927</td>\n      <td>1.000000</td>\n      <td>0.540005</td>\n      <td>0.154999</td>\n      <td>0.026890</td>\n    </tr>\n    <tr>\n      <th>Skin</th>\n      <td>0.131059</td>\n      <td>0.192242</td>\n      <td>0.191525</td>\n      <td>1.000000</td>\n      <td>0.157349</td>\n      <td>0.540005</td>\n      <td>1.000000</td>\n      <td>0.099964</td>\n      <td>0.127312</td>\n    </tr>\n    <tr>\n      <th>DiabetesPedigreeFunction</th>\n      <td>-0.004637</td>\n      <td>0.137858</td>\n      <td>-0.001156</td>\n      <td>0.099964</td>\n      <td>0.099673</td>\n      <td>0.154999</td>\n      <td>0.099964</td>\n      <td>1.000000</td>\n      <td>0.034402</td>\n    </tr>\n    <tr>\n      <th>Age</th>\n      <td>0.512118</td>\n      <td>0.267034</td>\n      <td>0.325326</td>\n      <td>0.127312</td>\n      <td>0.137139</td>\n      <td>0.026890</td>\n      <td>0.127312</td>\n      <td>0.034402</td>\n      <td>1.000000</td>\n    </tr>\n  </tbody>\n</table>\n</div>", 
                        "text/plain": "                          Pregnancies   Glucose  BloodPressure  SkinThickness  \\\nPregnancies                  1.000000  0.154972       0.260083       0.131059   \nGlucose                      0.154972  1.000000       0.219305       0.192242   \nBloodPressure                0.260083  0.219305       1.000000       0.191525   \nSkinThickness                0.131059  0.192242       0.191525       1.000000   \nInsulin                      0.068677  0.420629       0.073559       0.157349   \nBMI                          0.111976  0.232015       0.283093       0.540005   \nSkin                         0.131059  0.192242       0.191525       1.000000   \nDiabetesPedigreeFunction    -0.004637  0.137858      -0.001156       0.099964   \nAge                          0.512118  0.267034       0.325326       0.127312   \n\n                           Insulin       BMI      Skin  \\\nPregnancies               0.068677  0.111976  0.131059   \nGlucose                   0.420629  0.232015  0.192242   \nBloodPressure             0.073559  0.283093  0.191525   \nSkinThickness             0.157349  0.540005  1.000000   \nInsulin                   1.000000  0.167927  0.157349   \nBMI                       0.167927  1.000000  0.540005   \nSkin                      0.157349  0.540005  1.000000   \nDiabetesPedigreeFunction  0.099673  0.154999  0.099964   \nAge                       0.137139  0.026890  0.127312   \n\n                          DiabetesPedigreeFunction       Age  \nPregnancies                              -0.004637  0.512118  \nGlucose                                   0.137858  0.267034  \nBloodPressure                            -0.001156  0.325326  \nSkinThickness                             0.099964  0.127312  \nInsulin                                   0.099673  0.137139  \nBMI                                       0.154999  0.026890  \nSkin                                      0.099964  0.127312  \nDiabetesPedigreeFunction                  1.000000  0.034402  \nAge                                       0.034402  1.000000  "
                    }, 
                    "output_type": "execute_result"
                }
            ], 
            "source": "df.corr()"
        }, 
        {
            "execution_count": 146, 
            "cell_type": "code", 
            "metadata": {}, 
            "outputs": [], 
            "source": "del df['Skin']"
        }, 
        {
            "execution_count": 147, 
            "cell_type": "code", 
            "metadata": {}, 
            "outputs": [
                {
                    "execution_count": 147, 
                    "metadata": {}, 
                    "data": {
                        "text/plain": "(769, 9)"
                    }, 
                    "output_type": "execute_result"
                }
            ], 
            "source": "df.shape"
        }, 
        {
            "execution_count": 148, 
            "cell_type": "code", 
            "metadata": {}, 
            "outputs": [
                {
                    "execution_count": 148, 
                    "metadata": {}, 
                    "data": {
                        "text/html": "<div>\n<style scoped>\n    .dataframe tbody tr th:only-of-type {\n        vertical-align: middle;\n    }\n\n    .dataframe tbody tr th {\n        vertical-align: top;\n    }\n\n    .dataframe thead th {\n        text-align: right;\n    }\n</style>\n<table border=\"1\" class=\"dataframe\">\n  <thead>\n    <tr style=\"text-align: right;\">\n      <th></th>\n      <th>Pregnancies</th>\n      <th>Glucose</th>\n      <th>BloodPressure</th>\n      <th>SkinThickness</th>\n      <th>Insulin</th>\n      <th>BMI</th>\n      <th>DiabetesPedigreeFunction</th>\n      <th>Age</th>\n      <th>DiabetesDiagnosis</th>\n    </tr>\n  </thead>\n  <tbody>\n    <tr>\n      <th>0</th>\n      <td>6.000000</td>\n      <td>148.0</td>\n      <td>72.000000</td>\n      <td>35.000000</td>\n      <td>155.379747</td>\n      <td>33.600000</td>\n      <td>0.627</td>\n      <td>50</td>\n      <td>yes</td>\n    </tr>\n    <tr>\n      <th>1</th>\n      <td>1.000000</td>\n      <td>85.0</td>\n      <td>66.000000</td>\n      <td>29.000000</td>\n      <td>155.379747</td>\n      <td>26.600000</td>\n      <td>0.351</td>\n      <td>31</td>\n      <td>no</td>\n    </tr>\n    <tr>\n      <th>2</th>\n      <td>8.000000</td>\n      <td>183.0</td>\n      <td>64.000000</td>\n      <td>29.164207</td>\n      <td>155.379747</td>\n      <td>23.300000</td>\n      <td>0.672</td>\n      <td>32</td>\n      <td>yes</td>\n    </tr>\n    <tr>\n      <th>3</th>\n      <td>1.000000</td>\n      <td>89.0</td>\n      <td>66.000000</td>\n      <td>23.000000</td>\n      <td>94.000000</td>\n      <td>28.100000</td>\n      <td>0.167</td>\n      <td>21</td>\n      <td>no</td>\n    </tr>\n    <tr>\n      <th>4</th>\n      <td>4.490881</td>\n      <td>137.0</td>\n      <td>40.000000</td>\n      <td>35.000000</td>\n      <td>168.000000</td>\n      <td>43.100000</td>\n      <td>2.288</td>\n      <td>33</td>\n      <td>yes</td>\n    </tr>\n    <tr>\n      <th>5</th>\n      <td>5.000000</td>\n      <td>116.0</td>\n      <td>74.000000</td>\n      <td>29.164207</td>\n      <td>155.379747</td>\n      <td>25.600000</td>\n      <td>0.201</td>\n      <td>30</td>\n      <td>no</td>\n    </tr>\n    <tr>\n      <th>6</th>\n      <td>3.000000</td>\n      <td>78.0</td>\n      <td>50.000000</td>\n      <td>32.000000</td>\n      <td>88.000000</td>\n      <td>31.000000</td>\n      <td>0.248</td>\n      <td>26</td>\n      <td>yes</td>\n    </tr>\n    <tr>\n      <th>7</th>\n      <td>10.000000</td>\n      <td>115.0</td>\n      <td>72.384196</td>\n      <td>29.164207</td>\n      <td>155.379747</td>\n      <td>35.300000</td>\n      <td>0.134</td>\n      <td>29</td>\n      <td>no</td>\n    </tr>\n    <tr>\n      <th>8</th>\n      <td>2.000000</td>\n      <td>197.0</td>\n      <td>70.000000</td>\n      <td>45.000000</td>\n      <td>543.000000</td>\n      <td>30.500000</td>\n      <td>0.158</td>\n      <td>53</td>\n      <td>yes</td>\n    </tr>\n    <tr>\n      <th>9</th>\n      <td>8.000000</td>\n      <td>125.0</td>\n      <td>96.000000</td>\n      <td>29.164207</td>\n      <td>155.379747</td>\n      <td>32.443404</td>\n      <td>0.232</td>\n      <td>54</td>\n      <td>yes</td>\n    </tr>\n  </tbody>\n</table>\n</div>", 
                        "text/plain": "   Pregnancies  Glucose  BloodPressure  SkinThickness     Insulin        BMI  \\\n0     6.000000    148.0      72.000000      35.000000  155.379747  33.600000   \n1     1.000000     85.0      66.000000      29.000000  155.379747  26.600000   \n2     8.000000    183.0      64.000000      29.164207  155.379747  23.300000   \n3     1.000000     89.0      66.000000      23.000000   94.000000  28.100000   \n4     4.490881    137.0      40.000000      35.000000  168.000000  43.100000   \n5     5.000000    116.0      74.000000      29.164207  155.379747  25.600000   \n6     3.000000     78.0      50.000000      32.000000   88.000000  31.000000   \n7    10.000000    115.0      72.384196      29.164207  155.379747  35.300000   \n8     2.000000    197.0      70.000000      45.000000  543.000000  30.500000   \n9     8.000000    125.0      96.000000      29.164207  155.379747  32.443404   \n\n   DiabetesPedigreeFunction  Age DiabetesDiagnosis  \n0                     0.627   50               yes  \n1                     0.351   31                no  \n2                     0.672   32               yes  \n3                     0.167   21                no  \n4                     2.288   33               yes  \n5                     0.201   30                no  \n6                     0.248   26               yes  \n7                     0.134   29                no  \n8                     0.158   53               yes  \n9                     0.232   54               yes  "
                    }, 
                    "output_type": "execute_result"
                }
            ], 
            "source": "df.head(10)"
        }, 
        {
            "execution_count": 149, 
            "cell_type": "code", 
            "metadata": {}, 
            "outputs": [], 
            "source": "diabetes_map = {'yes':1, 'no':0}\ndf['DiabetesDiagnosis'] = df['DiabetesDiagnosis'].map(diabetes_map)"
        }, 
        {
            "execution_count": 150, 
            "cell_type": "code", 
            "metadata": {}, 
            "outputs": [
                {
                    "execution_count": 150, 
                    "metadata": {}, 
                    "data": {
                        "text/html": "<div>\n<style scoped>\n    .dataframe tbody tr th:only-of-type {\n        vertical-align: middle;\n    }\n\n    .dataframe tbody tr th {\n        vertical-align: top;\n    }\n\n    .dataframe thead th {\n        text-align: right;\n    }\n</style>\n<table border=\"1\" class=\"dataframe\">\n  <thead>\n    <tr style=\"text-align: right;\">\n      <th></th>\n      <th>Pregnancies</th>\n      <th>Glucose</th>\n      <th>BloodPressure</th>\n      <th>SkinThickness</th>\n      <th>Insulin</th>\n      <th>BMI</th>\n      <th>DiabetesPedigreeFunction</th>\n      <th>Age</th>\n      <th>DiabetesDiagnosis</th>\n    </tr>\n  </thead>\n  <tbody>\n    <tr>\n      <th>0</th>\n      <td>6.000000</td>\n      <td>148.0</td>\n      <td>72.000000</td>\n      <td>35.000000</td>\n      <td>155.379747</td>\n      <td>33.600000</td>\n      <td>0.627</td>\n      <td>50</td>\n      <td>1</td>\n    </tr>\n    <tr>\n      <th>1</th>\n      <td>1.000000</td>\n      <td>85.0</td>\n      <td>66.000000</td>\n      <td>29.000000</td>\n      <td>155.379747</td>\n      <td>26.600000</td>\n      <td>0.351</td>\n      <td>31</td>\n      <td>0</td>\n    </tr>\n    <tr>\n      <th>2</th>\n      <td>8.000000</td>\n      <td>183.0</td>\n      <td>64.000000</td>\n      <td>29.164207</td>\n      <td>155.379747</td>\n      <td>23.300000</td>\n      <td>0.672</td>\n      <td>32</td>\n      <td>1</td>\n    </tr>\n    <tr>\n      <th>3</th>\n      <td>1.000000</td>\n      <td>89.0</td>\n      <td>66.000000</td>\n      <td>23.000000</td>\n      <td>94.000000</td>\n      <td>28.100000</td>\n      <td>0.167</td>\n      <td>21</td>\n      <td>0</td>\n    </tr>\n    <tr>\n      <th>4</th>\n      <td>4.490881</td>\n      <td>137.0</td>\n      <td>40.000000</td>\n      <td>35.000000</td>\n      <td>168.000000</td>\n      <td>43.100000</td>\n      <td>2.288</td>\n      <td>33</td>\n      <td>1</td>\n    </tr>\n    <tr>\n      <th>5</th>\n      <td>5.000000</td>\n      <td>116.0</td>\n      <td>74.000000</td>\n      <td>29.164207</td>\n      <td>155.379747</td>\n      <td>25.600000</td>\n      <td>0.201</td>\n      <td>30</td>\n      <td>0</td>\n    </tr>\n    <tr>\n      <th>6</th>\n      <td>3.000000</td>\n      <td>78.0</td>\n      <td>50.000000</td>\n      <td>32.000000</td>\n      <td>88.000000</td>\n      <td>31.000000</td>\n      <td>0.248</td>\n      <td>26</td>\n      <td>1</td>\n    </tr>\n    <tr>\n      <th>7</th>\n      <td>10.000000</td>\n      <td>115.0</td>\n      <td>72.384196</td>\n      <td>29.164207</td>\n      <td>155.379747</td>\n      <td>35.300000</td>\n      <td>0.134</td>\n      <td>29</td>\n      <td>0</td>\n    </tr>\n    <tr>\n      <th>8</th>\n      <td>2.000000</td>\n      <td>197.0</td>\n      <td>70.000000</td>\n      <td>45.000000</td>\n      <td>543.000000</td>\n      <td>30.500000</td>\n      <td>0.158</td>\n      <td>53</td>\n      <td>1</td>\n    </tr>\n    <tr>\n      <th>9</th>\n      <td>8.000000</td>\n      <td>125.0</td>\n      <td>96.000000</td>\n      <td>29.164207</td>\n      <td>155.379747</td>\n      <td>32.443404</td>\n      <td>0.232</td>\n      <td>54</td>\n      <td>1</td>\n    </tr>\n  </tbody>\n</table>\n</div>", 
                        "text/plain": "   Pregnancies  Glucose  BloodPressure  SkinThickness     Insulin        BMI  \\\n0     6.000000    148.0      72.000000      35.000000  155.379747  33.600000   \n1     1.000000     85.0      66.000000      29.000000  155.379747  26.600000   \n2     8.000000    183.0      64.000000      29.164207  155.379747  23.300000   \n3     1.000000     89.0      66.000000      23.000000   94.000000  28.100000   \n4     4.490881    137.0      40.000000      35.000000  168.000000  43.100000   \n5     5.000000    116.0      74.000000      29.164207  155.379747  25.600000   \n6     3.000000     78.0      50.000000      32.000000   88.000000  31.000000   \n7    10.000000    115.0      72.384196      29.164207  155.379747  35.300000   \n8     2.000000    197.0      70.000000      45.000000  543.000000  30.500000   \n9     8.000000    125.0      96.000000      29.164207  155.379747  32.443404   \n\n   DiabetesPedigreeFunction  Age  DiabetesDiagnosis  \n0                     0.627   50                  1  \n1                     0.351   31                  0  \n2                     0.672   32                  1  \n3                     0.167   21                  0  \n4                     2.288   33                  1  \n5                     0.201   30                  0  \n6                     0.248   26                  1  \n7                     0.134   29                  0  \n8                     0.158   53                  1  \n9                     0.232   54                  1  "
                    }, 
                    "output_type": "execute_result"
                }
            ], 
            "source": "df.head(10)"
        }, 
        {
            "execution_count": 151, 
            "cell_type": "code", 
            "metadata": {}, 
            "outputs": [], 
            "source": "from sklearn.cross_validation import train_test_split\n\nfeature_col_names = ['Pregnancies', 'Glucose', 'BloodPressure', 'SkinThickness', 'Insulin', 'BMI', 'DiabetesPedigreeFunction', 'Age']\npredicted_class_names = ['DiabetesDiagnosis']\n\nX = df[feature_col_names].values\ny = df[predicted_class_names].values\nsplit_val_size = 0.25\n\nX_train, X_val, y_train, y_val = train_test_split(X,y,test_size=split_val_size,random_state=42)"
        }, 
        {
            "execution_count": 152, 
            "cell_type": "code", 
            "metadata": {}, 
            "outputs": [
                {
                    "output_type": "stream", 
                    "name": "stdout", 
                    "text": "number of obs: 769 (100.00%)\nnumber of True cases: 268 (34.85%)\nnumber of False cases: 501 (65.15%)\n\n74.90% in training set\n25.10% in validation set\n\nOriginal True cases: 268 (34.85%)\nOriginal False cases: 501 (65.15%)\n\nTraining True cases: 268 (34.85%)\nTraining False cases: 501 (65.15%)\n\nTraining True cases: 268 (34.85%)\nTraining False cases: 501 (65.15%)\n"
                }
            ], 
            "source": "num_obs = len(df)\nnum_true = len(df.loc[df['DiabetesDiagnosis']==1])\nnum_false = len(df.loc[df['DiabetesDiagnosis']==0])\n\nprint(\"number of obs: {0} ({1:2.2f}%)\".format(num_obs, (num_obs/num_obs)*100))\nprint(\"number of True cases: {0} ({1:2.2f}%)\".format(num_true, (num_true/num_obs)*100))\nprint(\"number of False cases: {0} ({1:2.2f}%)\".format(num_false, (num_false/num_obs)*100))\nprint(\"\")\nprint(\"{0:0.2f}% in training set\".format((len(X_train)/len(df.index))*100))\nprint(\"{0:0.2f}% in validation set\".format((len(X_val)/len(df.index))*100))\nprint(\"\")\nprint(\"Original True cases: {0} ({1:2.2f}%)\".format(num_true, (num_true/num_obs)*100))\nprint(\"Original False cases: {0} ({1:2.2f}%)\".format(num_false, (num_false/num_obs)*100))\nprint(\"\")\nprint(\"Training True cases: {0} ({1:2.2f}%)\".format(num_true, (num_true/num_obs)*100))\nprint(\"Training False cases: {0} ({1:2.2f}%)\".format(num_false, (num_false/num_obs)*100))\nprint(\"\")\nprint(\"Training True cases: {0} ({1:2.2f}%)\".format(num_true, (num_true/num_obs)*100))\nprint(\"Training False cases: {0} ({1:2.2f}%)\".format(num_false, (num_false/num_obs)*100))\n\n\n"
        }, 
        {
            "execution_count": 153, 
            "cell_type": "code", 
            "metadata": {}, 
            "outputs": [
                {
                    "output_type": "stream", 
                    "name": "stdout", 
                    "text": "[[   4.          129.           86.         ...,   35.1           0.231\n    23.        ]\n [   3.           61.           82.         ...,   34.4           0.243\n    46.        ]\n [   2.           81.           72.         ...,   30.1           0.547\n    25.        ]\n ..., \n [  10.          101.           86.         ...,   45.6           1.136\n    38.        ]\n [   4.49088146  141.           72.38419619 ...,   42.4           0.205\n    29.        ]\n [   4.49088146  125.           96.         ...,   22.5           0.262\n    21.        ]]\n"
                }
            ], 
            "source": "print (X_train)"
        }, 
        {
            "execution_count": 154, 
            "cell_type": "code", 
            "metadata": {}, 
            "outputs": [
                {
                    "execution_count": 154, 
                    "metadata": {}, 
                    "data": {
                        "text/html": "<div>\n<style scoped>\n    .dataframe tbody tr th:only-of-type {\n        vertical-align: middle;\n    }\n\n    .dataframe tbody tr th {\n        vertical-align: top;\n    }\n\n    .dataframe thead th {\n        text-align: right;\n    }\n</style>\n<table border=\"1\" class=\"dataframe\">\n  <thead>\n    <tr style=\"text-align: right;\">\n      <th></th>\n      <th>Pregnancies</th>\n      <th>Glucose</th>\n      <th>BloodPressure</th>\n      <th>SkinThickness</th>\n      <th>Insulin</th>\n      <th>BMI</th>\n      <th>DiabetesPedigreeFunction</th>\n      <th>Age</th>\n      <th>DiabetesDiagnosis</th>\n    </tr>\n  </thead>\n  <tbody>\n    <tr>\n      <th>0</th>\n      <td>6.000000</td>\n      <td>148.0</td>\n      <td>72.000000</td>\n      <td>35.000000</td>\n      <td>155.379747</td>\n      <td>33.600000</td>\n      <td>0.627</td>\n      <td>50</td>\n      <td>1</td>\n    </tr>\n    <tr>\n      <th>1</th>\n      <td>1.000000</td>\n      <td>85.0</td>\n      <td>66.000000</td>\n      <td>29.000000</td>\n      <td>155.379747</td>\n      <td>26.600000</td>\n      <td>0.351</td>\n      <td>31</td>\n      <td>0</td>\n    </tr>\n    <tr>\n      <th>2</th>\n      <td>8.000000</td>\n      <td>183.0</td>\n      <td>64.000000</td>\n      <td>29.164207</td>\n      <td>155.379747</td>\n      <td>23.300000</td>\n      <td>0.672</td>\n      <td>32</td>\n      <td>1</td>\n    </tr>\n    <tr>\n      <th>3</th>\n      <td>1.000000</td>\n      <td>89.0</td>\n      <td>66.000000</td>\n      <td>23.000000</td>\n      <td>94.000000</td>\n      <td>28.100000</td>\n      <td>0.167</td>\n      <td>21</td>\n      <td>0</td>\n    </tr>\n    <tr>\n      <th>4</th>\n      <td>4.490881</td>\n      <td>137.0</td>\n      <td>40.000000</td>\n      <td>35.000000</td>\n      <td>168.000000</td>\n      <td>43.100000</td>\n      <td>2.288</td>\n      <td>33</td>\n      <td>1</td>\n    </tr>\n    <tr>\n      <th>5</th>\n      <td>5.000000</td>\n      <td>116.0</td>\n      <td>74.000000</td>\n      <td>29.164207</td>\n      <td>155.379747</td>\n      <td>25.600000</td>\n      <td>0.201</td>\n      <td>30</td>\n      <td>0</td>\n    </tr>\n    <tr>\n      <th>6</th>\n      <td>3.000000</td>\n      <td>78.0</td>\n      <td>50.000000</td>\n      <td>32.000000</td>\n      <td>88.000000</td>\n      <td>31.000000</td>\n      <td>0.248</td>\n      <td>26</td>\n      <td>1</td>\n    </tr>\n    <tr>\n      <th>7</th>\n      <td>10.000000</td>\n      <td>115.0</td>\n      <td>72.384196</td>\n      <td>29.164207</td>\n      <td>155.379747</td>\n      <td>35.300000</td>\n      <td>0.134</td>\n      <td>29</td>\n      <td>0</td>\n    </tr>\n    <tr>\n      <th>8</th>\n      <td>2.000000</td>\n      <td>197.0</td>\n      <td>70.000000</td>\n      <td>45.000000</td>\n      <td>543.000000</td>\n      <td>30.500000</td>\n      <td>0.158</td>\n      <td>53</td>\n      <td>1</td>\n    </tr>\n    <tr>\n      <th>9</th>\n      <td>8.000000</td>\n      <td>125.0</td>\n      <td>96.000000</td>\n      <td>29.164207</td>\n      <td>155.379747</td>\n      <td>32.443404</td>\n      <td>0.232</td>\n      <td>54</td>\n      <td>1</td>\n    </tr>\n  </tbody>\n</table>\n</div>", 
                        "text/plain": "   Pregnancies  Glucose  BloodPressure  SkinThickness     Insulin        BMI  \\\n0     6.000000    148.0      72.000000      35.000000  155.379747  33.600000   \n1     1.000000     85.0      66.000000      29.000000  155.379747  26.600000   \n2     8.000000    183.0      64.000000      29.164207  155.379747  23.300000   \n3     1.000000     89.0      66.000000      23.000000   94.000000  28.100000   \n4     4.490881    137.0      40.000000      35.000000  168.000000  43.100000   \n5     5.000000    116.0      74.000000      29.164207  155.379747  25.600000   \n6     3.000000     78.0      50.000000      32.000000   88.000000  31.000000   \n7    10.000000    115.0      72.384196      29.164207  155.379747  35.300000   \n8     2.000000    197.0      70.000000      45.000000  543.000000  30.500000   \n9     8.000000    125.0      96.000000      29.164207  155.379747  32.443404   \n\n   DiabetesPedigreeFunction  Age  DiabetesDiagnosis  \n0                     0.627   50                  1  \n1                     0.351   31                  0  \n2                     0.672   32                  1  \n3                     0.167   21                  0  \n4                     2.288   33                  1  \n5                     0.201   30                  0  \n6                     0.248   26                  1  \n7                     0.134   29                  0  \n8                     0.158   53                  1  \n9                     0.232   54                  1  "
                    }, 
                    "output_type": "execute_result"
                }
            ], 
            "source": "df.head(10)"
        }, 
        {
            "execution_count": 156, 
            "cell_type": "code", 
            "metadata": {}, 
            "outputs": [
                {
                    "execution_count": 156, 
                    "metadata": {}, 
                    "data": {
                        "text/plain": "GaussianNB(priors=None)"
                    }, 
                    "output_type": "execute_result"
                }
            ], 
            "source": "from sklearn.naive_bayes import GaussianNB\n\nnb_model = GaussianNB()\nnb_model.fit(X_train, y_train.ravel())"
        }, 
        {
            "execution_count": 157, 
            "cell_type": "code", 
            "metadata": {}, 
            "outputs": [
                {
                    "output_type": "stream", 
                    "name": "stdout", 
                    "text": "Accuracy: 0.7552\n\n"
                }
            ], 
            "source": "nb_predict_train = nb_model.predict(X_train)\n\nfrom sklearn import metrics\nprint(\"Accuracy: {0:.4f}\".format(metrics.accuracy_score(y_train, nb_predict_train)))\nprint()"
        }, 
        {
            "execution_count": 158, 
            "cell_type": "code", 
            "metadata": {}, 
            "outputs": [
                {
                    "output_type": "stream", 
                    "name": "stdout", 
                    "text": "Accuracy: 0.7306\n\n"
                }
            ], 
            "source": "nb_predict_val = nb_model.predict(X_val)\n\nfrom sklearn import metrics\nprint(\"Accuracy: {0:.4f}\".format(metrics.accuracy_score(y_val, nb_predict_val)))\nprint()"
        }, 
        {
            "execution_count": 159, 
            "cell_type": "code", 
            "metadata": {}, 
            "outputs": [
                {
                    "output_type": "stream", 
                    "name": "stdout", 
                    "text": "0.776041666667\n"
                }, 
                {
                    "output_type": "stream", 
                    "name": "stderr", 
                    "text": "/usr/local/src/conda3_runtime/home/envs/DSX-Python35-Spark/lib/python3.5/site-packages/sklearn/utils/validation.py:578: DataConversionWarning: A column-vector y was passed when a 1d array was expected. Please change the shape of y to (n_samples, ), for example using ravel().\n  y = column_or_1d(y, warn=True)\n/usr/local/src/conda3_runtime/home/envs/DSX-Python35-Spark/lib/python3.5/site-packages/sklearn/utils/validation.py:578: DataConversionWarning: A column-vector y was passed when a 1d array was expected. Please change the shape of y to (n_samples, ), for example using ravel().\n  y = column_or_1d(y, warn=True)\n/usr/local/src/conda3_runtime/home/envs/DSX-Python35-Spark/lib/python3.5/site-packages/sklearn/utils/validation.py:578: DataConversionWarning: A column-vector y was passed when a 1d array was expected. Please change the shape of y to (n_samples, ), for example using ravel().\n  y = column_or_1d(y, warn=True)\n"
                }
            ], 
            "source": "from sklearn.discriminant_analysis import LinearDiscriminantAnalysis\n# evaluate an LDA model on the dataset using k-fold cross validation\nmodel = LinearDiscriminantAnalysis()\nkfold = KFold(n_splits=3, random_state=7)\nresult = cross_val_score(model, X_train, y_train, cv=kfold, scoring='accuracy')\nprint(result.mean())"
        }, 
        {
            "execution_count": 160, 
            "cell_type": "code", 
            "metadata": {}, 
            "outputs": [
                {
                    "output_type": "stream", 
                    "name": "stdout", 
                    "text": "0.751201923077\n"
                }, 
                {
                    "output_type": "stream", 
                    "name": "stderr", 
                    "text": "/usr/local/src/conda3_runtime/home/envs/DSX-Python35-Spark/lib/python3.5/site-packages/sklearn/utils/validation.py:578: DataConversionWarning: A column-vector y was passed when a 1d array was expected. Please change the shape of y to (n_samples, ), for example using ravel().\n  y = column_or_1d(y, warn=True)\n/usr/local/src/conda3_runtime/home/envs/DSX-Python35-Spark/lib/python3.5/site-packages/sklearn/utils/validation.py:578: DataConversionWarning: A column-vector y was passed when a 1d array was expected. Please change the shape of y to (n_samples, ), for example using ravel().\n  y = column_or_1d(y, warn=True)\n/usr/local/src/conda3_runtime/home/envs/DSX-Python35-Spark/lib/python3.5/site-packages/sklearn/utils/validation.py:578: DataConversionWarning: A column-vector y was passed when a 1d array was expected. Please change the shape of y to (n_samples, ), for example using ravel().\n  y = column_or_1d(y, warn=True)\n"
                }
            ], 
            "source": "from sklearn.discriminant_analysis import LinearDiscriminantAnalysis\n# evaluate an LDA model on the dataset using k-fold cross validation\nmodel = LinearDiscriminantAnalysis()\nkfold = KFold(n_splits=3, random_state=7)\nresult = cross_val_score(model, X_val, y_val, cv=kfold, scoring='accuracy')\nprint(result.mean())"
        }, 
        {
            "execution_count": null, 
            "cell_type": "code", 
            "metadata": {}, 
            "outputs": [], 
            "source": ""
        }
    ], 
    "metadata": {
        "kernelspec": {
            "display_name": "Python 3.5 with Spark 2.1", 
            "name": "python3-spark21", 
            "language": "python"
        }, 
        "language_info": {
            "mimetype": "text/x-python", 
            "nbconvert_exporter": "python", 
            "version": "3.5.4", 
            "name": "python", 
            "file_extension": ".py", 
            "pygments_lexer": "ipython3", 
            "codemirror_mode": {
                "version": 3, 
                "name": "ipython"
            }
        }
    }, 
    "nbformat": 4
}